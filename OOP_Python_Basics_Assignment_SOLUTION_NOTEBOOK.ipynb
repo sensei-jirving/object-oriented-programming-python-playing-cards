{
  "nbformat": 4,
  "nbformat_minor": 0,
  "metadata": {
    "colab": {
      "name": "OOP Python Basics Assignment - SOLUTION NOTEBOOK",
      "provenance": [],
      "collapsed_sections": [],
      "toc_visible": true,
      "include_colab_link": true
    },
    "kernelspec": {
      "name": "python3",
      "display_name": "Python 3"
    },
    "language_info": {
      "name": "python"
    }
  },
  "cells": [
    {
      "cell_type": "markdown",
      "metadata": {
        "id": "view-in-github",
        "colab_type": "text"
      },
      "source": [
        "<a href=\"https://colab.research.google.com/github/sensei-jirving/object-oriented-programming-python-playing-cards/blob/main/OOP_Python_Basics_Assignment_SOLUTION_NOTEBOOK.ipynb\" target=\"_parent\"><img src=\"https://colab.research.google.com/assets/colab-badge.svg\" alt=\"Open In Colab\"/></a>"
      ]
    },
    {
      "cell_type": "markdown",
      "source": [
        "# Object-Oriented-Programming Assignments - SOLUTIONS\n",
        "- 01.24.22 Cohort\n",
        "- 01/20/22\n",
        "\n",
        "\n"
      ],
      "metadata": {
        "id": "ObEVl0adyzJZ"
      }
    },
    {
      "cell_type": "markdown",
      "source": [
        "## Table of Contents"
      ],
      "metadata": {
        "id": "eF1FkZLgAAvu"
      }
    },
    {
      "cell_type": "markdown",
      "source": [
        "- [User Assignment](#user)\n",
        "- [BankAccount Assignment](#bank-account)\n",
        "- [User w/ BankAccount Assignment](#user-bankaccount)"
      ],
      "metadata": {
        "id": "ekoLe8PoANp6"
      }
    },
    {
      "cell_type": "markdown",
      "source": [
        "### Resources"
      ],
      "metadata": {
        "id": "d66JQNMQ6bmN"
      }
    },
    {
      "cell_type": "markdown",
      "source": [
        "- Object-Oriented Programming Lessons:\n",
        "    - [Intro to OOP](https://login.codingdojo.com/m/375/10610/71967)\n",
        "\n",
        "- Bonus In-Depth OOP Walkthrough Notebook\n",
        "    - [Repo Link](https://github.com/sensei-jirving/object-oriented-programming-python-playing-cards/blob/main/OOP_playing_cards_solution.ipynb)\n",
        "\n",
        "    - Original Solution [Notebook Link](https://colab.research.google.com/drive/1w3uCcG9vaDJbwFzvzS7BxtfYokyJIfcq?usp=sharing)\n",
        "    - Written by TA Mandy Sachs. 🙏\n"
      ],
      "metadata": {
        "id": "DzjSfE9d6dNc"
      }
    },
    {
      "cell_type": "markdown",
      "source": [
        "# 1. User (Practice) <a name='user'></a>\n",
        "- [Lesson Url](https://login.codingdojo.com/m/375/10610/71986)"
      ],
      "metadata": {
        "id": "bCJmI0ty5OXh"
      }
    },
    {
      "cell_type": "markdown",
      "source": [
        "\n",
        "<h2>Objectives:</h2>\n",
        "<ul>\n",
        "    <li>Practice creating a class and making instances from it</li>\n",
        "    <li>Practice accessing the methods and attributes of different instances</li>\n",
        "</ul>\n",
        "<hr>\n",
        "<p>For this assignment, create and add the following functionality to some \"User\" class:<br></p>\n",
        "<ul>\n",
        "\t<li><strong>make_withdrawal(self, amount)</strong> - have this method decrease the user's balance by the amount specified</li>\n",
        "\t<li><strong>display_user_balance(self)</strong> - have this method print the user's name and account balance to the terminal</li>\n",
        "    <ul><li>eg. \"User: Guido van Rossum, Balance: $150</li></ul>\n",
        "    <li><strong>BONUS: transfer_money(self, other_user, amount)</strong> - have this method decrease the user's balance by the amount and add that amount to other other_user's balance</li>\n",
        "</ul>\n",
        "        "
      ],
      "metadata": {
        "id": "b-tRUC7B60aO"
      }
    },
    {
      "cell_type": "markdown",
      "source": [
        "### James' Solution"
      ],
      "metadata": {
        "id": "plvMIwKNHRYu"
      }
    },
    {
      "cell_type": "code",
      "source": [
        "## Create the User class\n",
        "\n",
        "class User:\n",
        "    def __init__(self,name,starting_balance=0):\n",
        "        self.name = name\n",
        "        self.balance = starting_balance\n",
        "\n",
        "    def make_withdrawal(self,amount):\n",
        "        self.balance = self.balance - amount\n",
        "\n",
        "    def make_deposit(self,amount):\n",
        "        self.balance = self.balance + amount\n",
        "\n",
        "    def display_user_balance(self):\n",
        "        print(f'User: {self.name}, Balance: ${self.balance:,.2f}')\n",
        "\n",
        "\n",
        "    def transfer_money(self,other_user,amount):\n",
        "\n",
        "        self.make_withdrawal(amount)\n",
        "        other_user.make_deposit(amount)"
      ],
      "metadata": {
        "id": "ccQGmjJpBNr-"
      },
      "execution_count": 1,
      "outputs": []
    },
    {
      "cell_type": "code",
      "source": [
        "## Create a test user, james, with a starting balance of 100\n",
        "james = User('James',starting_balance=100)\n",
        "\n",
        "## display balance\n",
        "james.display_user_balance()"
      ],
      "metadata": {
        "colab": {
          "base_uri": "https://localhost:8080/"
        },
        "id": "e-J2J7nIDyoh",
        "outputId": "0e1d2300-11eb-4f1d-a5f4-f0cf345308fc"
      },
      "execution_count": 2,
      "outputs": [
        {
          "output_type": "stream",
          "name": "stdout",
          "text": [
            "User: James, Balance: $100.00\n"
          ]
        }
      ]
    },
    {
      "cell_type": "code",
      "source": [
        "## Make test deposits: 3.50, 450, 100 and then display balance\n",
        "james.make_deposit(3.50)\n",
        "james.make_deposit(450)\n",
        "james.make_withdrawal(100)\n",
        "james.display_user_balance()"
      ],
      "metadata": {
        "colab": {
          "base_uri": "https://localhost:8080/"
        },
        "id": "AMXCkEq2GSAe",
        "outputId": "0e8df4a3-e1b9-4a73-ca6b-bb1a60da3cae"
      },
      "execution_count": 3,
      "outputs": [
        {
          "output_type": "stream",
          "name": "stdout",
          "text": [
            "User: James, Balance: $453.50\n"
          ]
        }
      ]
    },
    {
      "cell_type": "code",
      "source": [
        "## Make a second user, purvi, with a starting balance of 3000\n",
        "purvi = User('Purvi',starting_balance=3000)\n",
        "\n",
        "## Deposit $446, withdraw $10 and display balance\n",
        "purvi.make_deposit(446)\n",
        "purvi.make_withdrawal(10)\n",
        "purvi.display_user_balance()"
      ],
      "metadata": {
        "colab": {
          "base_uri": "https://localhost:8080/"
        },
        "id": "-gNXJH3hGLLS",
        "outputId": "1252994f-abec-44a3-de31-06b968e4b143"
      },
      "execution_count": 4,
      "outputs": [
        {
          "output_type": "stream",
          "name": "stdout",
          "text": [
            "User: Purvi, Balance: $3,436.00\n"
          ]
        }
      ]
    },
    {
      "cell_type": "code",
      "source": [
        "## Use the bonus \"transfer money\" method to transfer $175 from james to purvi\n",
        "james.transfer_money(purvi,175)\n",
        "\n",
        "## check account balances\n",
        "james.display_user_balance()\n",
        "purvi.display_user_balance()"
      ],
      "metadata": {
        "colab": {
          "base_uri": "https://localhost:8080/"
        },
        "id": "GOuZLCwZGq41",
        "outputId": "01d96a49-6433-40ec-d19e-0acab2609348"
      },
      "execution_count": 5,
      "outputs": [
        {
          "output_type": "stream",
          "name": "stdout",
          "text": [
            "User: James, Balance: $278.50\n",
            "User: Purvi, Balance: $3,611.00\n"
          ]
        }
      ]
    },
    {
      "cell_type": "markdown",
      "source": [
        "# 2. Bank Account (Practice) <a name='bank-account'></a>\n",
        "- [Lesson Link](https://login.codingdojo.com/m/375/10610/77913)"
      ],
      "metadata": {
        "id": "_z_38DFtEHS_"
      }
    },
    {
      "cell_type": "markdown",
      "source": [
        "<h2>Objectives</h2>\n",
        "\n",
        "<ul><li>Practice writing classes</li></ul>\n",
        "<p>As we continue thinking about our banking application, we realize that it would be more accurate to assign a balance not to the user directly, but that in the real world, users have&nbsp;<em>accounts</em>, and&nbsp;<em>accounts</em>&nbsp;have balances. This gives us the idea that maybe an account&nbsp;<em>is its own class</em>! But as we stated, it is not completely independent of a class; accounts only exist because users open them.</p>\n",
        "<p><em>For this assignment, don't worry about putting any user information in the BankAccount class. We'll take care of that in the next lesson!</em></p>\n",
        "<p>Let's first just get some more practice writing classes by writing a new&nbsp;<em>BankAccount</em>&nbsp;class. In the next lesson, we'll tie our User and BankAccount classes together.</p>\n",
        "\n",
        "<p>The BankAccount class should have a balance. When a new BankAccount instance is created, if an amount is given, the balance of the account should initially be set to that amount; otherwise, the balance should start at $0. The account should also have an interest rate, saved as a decimal (i.e. 1% would be saved as 0.01), which should be provided upon instantiation. (Hint: when using default values in parameters, the order of parameters matters!)</p>\n",
        "\n",
        "<p>The class should also have the following methods:</p>\n",
        "<ul><li>deposit(self, amount)&nbsp;- increases the account balance by the given amount</li><li>withdraw(self, amount)&nbsp;- decreases the account balance by the given amount if there are sufficient funds; if there is not enough money, print a message \"Insufficient funds: Charging a $5 fee\" and deduct $5</li><li>display_account_info(self)&nbsp;- print to the console: eg. \"Balance: $100\"</li><li>yield_interest(self)&nbsp;- increases the account balance by the current balance * the interest rate (as long as the balance is positive)</li></ul>\n",
        "\n",
        "<p>This means we&nbsp;need a class that looks something like this:</p>\n",
        "\n",
        "```python\n",
        "class BankAccount:\n",
        "\tdef __init__(self, int_rate, balance): # don't forget to add some default values for these parameters!\n",
        "\t\t# your code here! (remember, this is where we specify the attributes for our class)\n",
        "    # don't worry about user info here; we'll involve the User class soon\n",
        "\tdef deposit(self, amount):\n",
        "\t\t# your code here\n",
        "\tdef withdraw(self, amount):\n",
        "\t\t# your code here\n",
        "\tdef display_account_info(self):\n",
        "\t\t# your code here\n",
        "\tdef yield_interest(self):\n",
        "\t\t# your code here</pre>\n",
        "```\n",
        "\n",
        "- Create a BankAccount class with the attributes interest rate and balance. Default interest of 1% (0.01) and default balance = $0.</p>\n",
        "    - Add a deposit method to the BankAccount class\n",
        "    - Add a withdraw method to the BankAccount class</p>\n",
        "- Add a display_account_info method to the BankAccount class (to displace the current balance)\n",
        "- Add a yield_interest method to the BankAccount class</p>\n",
        "- Create 2 accounts\n",
        "    -  To the first account, make 3 deposits ( \\\\$100, \\\\$50, \\\\$250) and 1 withdrawal ($20), then calculate interest and display the account's info\n",
        "    - To the second account, make 2 deposits (\\\\$5000, \\\\$3500) and 4 withdrawals, (\\\\$250, \\\\$500, \\\\$1500, \\\\$1200) then calculate interest and display the account's info\n",
        "    \n",
        "- Submit your file.\n",
        "        \n",
        "        "
      ],
      "metadata": {
        "id": "lQzeLBOW7FLh"
      }
    },
    {
      "cell_type": "markdown",
      "source": [
        "### James' Solution"
      ],
      "metadata": {
        "id": "1STyycEmM637"
      }
    },
    {
      "cell_type": "code",
      "source": [
        "## create the BankAccount class\n",
        "class BankAccount:\n",
        "    def __init__(self, int_rate=0.01, balance=0): \n",
        "        self.int_rate = int_rate\n",
        "        self.balance = balance\n",
        "    \n",
        "    def deposit(self, amount):\n",
        "        self.balance += amount\n",
        "    \n",
        "    def withdraw(self, amount):\n",
        "        self.balance -= amount\n",
        "        \n",
        "    def display_account_info(self):\n",
        "        print(f\"Balance = ${self.balance:,.2f}\")\n",
        "    \n",
        "    def yield_interest(self):\n",
        "        self.balance = self.balance + self.balance * self.int_rate\n"
      ],
      "metadata": {
        "id": "j1IHiABgM8KV"
      },
      "execution_count": 6,
      "outputs": []
    },
    {
      "cell_type": "code",
      "source": [
        "## Create account 1\n",
        "acct1 = BankAccount()\n",
        "\n",
        "# To the first account, make 3 deposits ( $100, $50, $250) and 1 withdrawal ($20),\n",
        "# then calculate interest and display the account's info\n",
        "\n",
        "acct1.deposit(100)\n",
        "acct1.deposit(50)\n",
        "acct1.deposit(250)\n",
        "acct1.withdraw(20)\n",
        "\n",
        "acct1.yield_interest()\n",
        "acct1.display_account_info()"
      ],
      "metadata": {
        "colab": {
          "base_uri": "https://localhost:8080/"
        },
        "id": "FsYE3pNsOMkc",
        "outputId": "e9d2be04-d365-4782-b994-01a983e346dd"
      },
      "execution_count": 7,
      "outputs": [
        {
          "output_type": "stream",
          "name": "stdout",
          "text": [
            "Balance = $383.80\n"
          ]
        }
      ]
    },
    {
      "cell_type": "code",
      "source": [
        "## Create account 2\n",
        "acct2 = BankAccount()\n",
        "\n",
        "## To the second account, make 2 deposits ($5000, $3500) and 4 withdrawals,\n",
        "# ($250, $500, $1500, $1200) then calculate interest and display the account's info\n",
        "acct2.deposit(5000)\n",
        "acct2.deposit(3500)\n",
        "acct2.withdraw(250)\n",
        "acct2.withdraw(500)\n",
        "acct2.withdraw(1500)\n",
        "acct2.withdraw(1200)\n",
        "acct2.yield_interest()\n",
        "acct2.display_account_info()"
      ],
      "metadata": {
        "colab": {
          "base_uri": "https://localhost:8080/"
        },
        "id": "xwW-oeQiO6GC",
        "outputId": "528fdb48-b045-4df8-cb1e-cf302ee38a56"
      },
      "execution_count": 8,
      "outputs": [
        {
          "output_type": "stream",
          "name": "stdout",
          "text": [
            "Balance = $5,100.50\n"
          ]
        }
      ]
    },
    {
      "cell_type": "markdown",
      "source": [
        "#### James' Solution - with method chaining"
      ],
      "metadata": {
        "id": "hOggFb2iOonZ"
      }
    },
    {
      "cell_type": "code",
      "source": [
        "class BankAccountChained:\n",
        "    def __init__(self, int_rate=0.01, balance=0): \n",
        "        self.int_rate = int_rate\n",
        "        self.balance = balance\n",
        "    \n",
        "    def deposit(self, amount):\n",
        "        self.balance += amount\n",
        "        return self\n",
        "    \n",
        "    def withdraw(self, amount):\n",
        "        self.balance -= amount\n",
        "        return self\n",
        "        \n",
        "    def display_account_info(self):\n",
        "        print(f\"Balance = ${self.balance:,.2f}\")\n",
        "    \n",
        "    def yield_interest(self):\n",
        "        self.balance = self.balance + self.balance * self.int_rate\n",
        "        return self\n"
      ],
      "metadata": {
        "id": "uDLJZw-JOqtG"
      },
      "execution_count": 9,
      "outputs": []
    },
    {
      "cell_type": "code",
      "source": [
        "acct1 = BankAccountChained()\n",
        "acct1.deposit(50).deposit(100).deposit(250).withdraw(20).yield_interest()\n",
        "acct1.display_account_info()"
      ],
      "metadata": {
        "colab": {
          "base_uri": "https://localhost:8080/"
        },
        "id": "96_CExxAOj0N",
        "outputId": "2cecbe8e-218d-4f8a-d371-1e6390225d19"
      },
      "execution_count": 10,
      "outputs": [
        {
          "output_type": "stream",
          "name": "stdout",
          "text": [
            "Balance = $383.80\n"
          ]
        }
      ]
    },
    {
      "cell_type": "code",
      "source": [
        "acct2 = BankAccountChained()\n",
        "# make 2 deposits ($5000, $3500) and 4 withdrawals, ($250, $500, $1500, $1200) \n",
        "\n",
        "acct2.deposit(5000).deposit(3500).withdraw(250).withdraw(500).withdraw(1500)\\\n",
        "    .withdraw(1200).yield_interest()\n",
        "acct2.display_account_info()"
      ],
      "metadata": {
        "colab": {
          "base_uri": "https://localhost:8080/"
        },
        "id": "xMkj0yJdPfrf",
        "outputId": "f81ea1d0-c659-496e-ae69-4c0db17f2637"
      },
      "execution_count": 11,
      "outputs": [
        {
          "output_type": "stream",
          "name": "stdout",
          "text": [
            "Balance = $5,100.50\n"
          ]
        }
      ]
    },
    {
      "cell_type": "markdown",
      "source": [
        "# 3. User w/ Bank Account <a name='user-bankaccount'></a>\n",
        "- [Lesson Link](https://login.codingdojo.com/m/375/10610/71988)"
      ],
      "metadata": {
        "id": "WXY4FlEJTA2U"
      }
    },
    {
      "cell_type": "markdown",
      "source": [
        "\n",
        "<h2>Objectives:</h2>\n",
        "<ul>\n",
        "    <li>Practice writing classes with associations</li>\n",
        "</ul>\n",
        "<hr>\n",
        "<p>Update your existing User class to have an association with the BankAccount class. You should not have to change anything in the BankAccount class. The method signatures of the User class (the first line of the method with the <code>def</code> keyword) should also remain the same.</p>\n",
        "<p>For example, our User class currently has a method like this:</p>\n",
        "<pre data-language=\"python\" class=\"rainbow\" style=\"position: relative;\">class User:\n",
        "    # other methods\n",
        "    def make_deposit(self, amount):\n",
        "    \tself.account_balance += amount\t# hmmm...the User class doesn't have an account_balance attribute anymore\n",
        "</pre>\n",
        "<p>But for this assignment, our User class will no longer have a <code>self.account_balance</code> attribute. Instead, we will replace this attribute's value in our <strong>__init__</strong> method with an <em>instance</em> of a BankAccount, and use the name of <code>self.account</code>. That means our make_deposit (and other methods referencing self.account_balance) need to be updated! That's the goal of this assignment.</p>\n",
        "<p>Remember in our User methods, we are going to now be accessing the BankAccount class through our <code>self.account</code> attribute, like so:</p>\n",
        "<pre data-language=\"Python\" class=\"rainbow\" style=\"position: relative;\">class User:\n",
        "    def example_method(self):\n",
        "        self.account.deposit(100)\t\t# we can call the BankAccount instance's methods\n",
        "    \tprint(self.account.balance)\t\t# or access its attributes\n",
        "</pre>\n",
        "<p>Make sure that by the end of this assignment that you:\n",
        "    </p>\n",
        "<ul>\t\n",
        "    <li>have both the User and BankAccount classes in the same file for your assignment</li>\n",
        "    \t<li>only create BankAccount instances inside of the User's __init__ method</li>\n",
        "        <li>only call BankAccount methods inside of the methods in the User class</li>\n",
        "    </ul>\n",
        "<p> <br> </p>\n",
        "        "
      ],
      "metadata": {
        "id": "FC6Osacx8REO"
      }
    },
    {
      "cell_type": "markdown",
      "source": [
        "### James' Solution"
      ],
      "metadata": {
        "id": "rEIgq5AyP_wf"
      }
    },
    {
      "cell_type": "code",
      "source": [
        "## Copy Final BankAccount Class From Previous Assignment\n",
        "class BankAccount:\n",
        "    def __init__(self, int_rate=0.01, balance=0): \n",
        "        self.int_rate = int_rate\n",
        "        self.balance = balance\n",
        "    \n",
        "    def deposit(self, amount):\n",
        "        self.balance += amount\n",
        "    \n",
        "    def withdraw(self, amount):\n",
        "        self.balance -= amount\n",
        "        \n",
        "    def display_account_info(self):\n",
        "        print(f\"Balance = ${self.balance:,.2f}\")\n",
        "    \n",
        "    def yield_interest(self):\n",
        "        self.balance = self.balance + self.balance * self.int_rate\n",
        "\n",
        "## Write a new version (or modify previous) of the User class that has a .account attribute\n",
        "class User:\n",
        "    def __init__(self,name,balance=0,int_rate=0.01):\n",
        "        self.name = name\n",
        "        self.account = BankAccount(int_rate,balance)\n",
        "\n",
        "    def make_withdrawal(self,amount):\n",
        "        self.account.withdraw(amount)\n",
        "\n",
        "    def make_deposit(self,amount):\n",
        "        self.account.deposit(amount)\n",
        "\n",
        "    def display_user_balance(self):\n",
        "        print(f'User: {self.name}, Balance: ${self.account.balance:,.2f}')\n",
        "\n",
        "\n",
        "    def transfer_money(self,other_user,amount):\n",
        "        self.make_withdrawal(amount)\n",
        "        other_user.make_deposit(amount)"
      ],
      "metadata": {
        "id": "qz8PWXRKQFg1"
      },
      "execution_count": 12,
      "outputs": []
    },
    {
      "cell_type": "code",
      "source": [
        "## Make a test user James \n",
        "james = User(\"James\")\n",
        "james.display_user_balance()\n",
        "\n",
        "#To James' account, make 3 deposits ($100, $50, $250) and 1 withdrawal ($20),\n",
        "#then calculate interest and display the account's info \n",
        "james.make_deposit(100)\n",
        "james.make_deposit(50)\n",
        "james.make_deposit(250)\n",
        "james.make_withdrawal(20)\n",
        "james.account.yield_interest()\n",
        "james.display_user_balance()"
      ],
      "metadata": {
        "colab": {
          "base_uri": "https://localhost:8080/"
        },
        "id": "u6JedtmbRKPj",
        "outputId": "37b9022a-2706-43dc-a1c4-96d70b28efc5"
      },
      "execution_count": 13,
      "outputs": [
        {
          "output_type": "stream",
          "name": "stdout",
          "text": [
            "User: James, Balance: $0.00\n",
            "User: James, Balance: $383.80\n"
          ]
        }
      ]
    },
    {
      "cell_type": "code",
      "source": [
        "## Make a test user Purvi\n",
        "purvi = User(\"Purvi\")\n",
        "\n",
        "#To Purvi's account: make 2 deposits ($5000, $3500) and 4 withdrawals, ($250, $500, $1500, $1200)\n",
        "#then calculate interest and display the account's info  \n",
        "purvi.make_deposit(5000)\n",
        "purvi.make_deposit(3500)\n",
        "purvi.make_withdrawal(250)\n",
        "purvi.make_withdrawal(500)\n",
        "purvi.make_withdrawal(1500)\n",
        "purvi.make_withdrawal(1200)\n",
        "purvi.account.yield_interest()\n",
        "purvi.display_user_balance()\n",
        "\n"
      ],
      "metadata": {
        "colab": {
          "base_uri": "https://localhost:8080/"
        },
        "id": "a_mfBPWwRKK7",
        "outputId": "0a325205-26e7-4f4f-ec1a-57a062437257"
      },
      "execution_count": 14,
      "outputs": [
        {
          "output_type": "stream",
          "name": "stdout",
          "text": [
            "User: Purvi, Balance: $5,100.50\n"
          ]
        }
      ]
    },
    {
      "cell_type": "code",
      "source": [
        "## use the bonus transfer_money method to transfer 100 from james to purvi\n",
        "# and then display both account balances\n",
        "james.transfer_money(purvi, 100)\n",
        "james.display_user_balance()\n",
        "purvi.display_user_balance()"
      ],
      "metadata": {
        "colab": {
          "base_uri": "https://localhost:8080/"
        },
        "id": "iBKZN93TRJ87",
        "outputId": "beacf807-4ad5-4f61-d9f9-976c9ea2af33"
      },
      "execution_count": 15,
      "outputs": [
        {
          "output_type": "stream",
          "name": "stdout",
          "text": [
            "User: James, Balance: $283.80\n",
            "User: Purvi, Balance: $5,200.50\n"
          ]
        }
      ]
    }
  ]
}